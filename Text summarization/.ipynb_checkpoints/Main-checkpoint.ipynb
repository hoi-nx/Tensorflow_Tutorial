{
 "cells": [
  {
   "cell_type": "markdown",
   "metadata": {},
   "source": [
    "# Import library"
   ]
  },
  {
   "cell_type": "code",
   "execution_count": 1,
   "metadata": {},
   "outputs": [
    {
     "ename": "ModuleNotFoundError",
     "evalue": "No module named 'pyvi'",
     "output_type": "error",
     "traceback": [
      "\u001b[0;31m---------------------------------------------------------------------------\u001b[0m",
      "\u001b[0;31mModuleNotFoundError\u001b[0m                       Traceback (most recent call last)",
      "\u001b[0;32m<ipython-input-1-16a1e5dd4d54>\u001b[0m in \u001b[0;36m<module>\u001b[0;34m\u001b[0m\n\u001b[1;32m      1\u001b[0m \u001b[0;32mimport\u001b[0m \u001b[0mpickle\u001b[0m\u001b[0;34m\u001b[0m\u001b[0m\n\u001b[1;32m      2\u001b[0m \u001b[0;32mimport\u001b[0m \u001b[0mnumpy\u001b[0m \u001b[0;32mas\u001b[0m \u001b[0mnp\u001b[0m\u001b[0;34m\u001b[0m\u001b[0m\n\u001b[0;32m----> 3\u001b[0;31m \u001b[0;32mfrom\u001b[0m \u001b[0mpyvi\u001b[0m \u001b[0;32mimport\u001b[0m \u001b[0mViTokenizer\u001b[0m\u001b[0;34m\u001b[0m\u001b[0m\n\u001b[0m",
      "\u001b[0;31mModuleNotFoundError\u001b[0m: No module named 'pyvi'"
     ]
    }
   ],
   "source": [
    "import pickle\n",
    "import numpy as np\n",
    "from pyvi import ViTokenizer"
   ]
  },
  {
   "cell_type": "markdown",
   "metadata": {},
   "source": [
    "# Loading data"
   ]
  },
  {
   "cell_type": "code",
   "execution_count": 3,
   "metadata": {},
   "outputs": [],
   "source": [
    "#Load\n",
    "with open ('neg.pkl', 'rb') as fp:\n",
    "    contents = pickle.load(fp)"
   ]
  },
  {
   "cell_type": "code",
   "execution_count": 10,
   "metadata": {},
   "outputs": [],
   "source": [
    "#Pre-processing\n",
    "contents_parsed = []\n",
    "for content in contents[0:10]:\n",
    "    contents_parsed.append(content.lower().strip())"
   ]
  },
  {
   "cell_type": "code",
   "execution_count": 11,
   "metadata": {},
   "outputs": [
    {
     "name": "stdout",
     "output_type": "stream",
     "text": [
      "Nạn nhân được tìm thấy là máy trưởng tàu SEA BEE   Trưa 7/5, TS Lương Công Nhớ, Hiệu phó ĐH Hàng hải Việt Nam thông báo với VnExpress, người được tìm thấy sau vụ mất liên lạc của tàu SEA BEE tại vùng biển Trung Quốc là máy trưởng Đàm Cao Vân, sinh năm 1960, quê Hải Phòng.  Ngoài máy trưởng Vân, từ ngày 3/5 đến nay tàu cứu nạn DONGHAIJIU 169 của Trung tâm Cứu nạn Biển Đông Thượng Hải (Trung Quốc) vẫn chưa tìm thêm được nạn nhân nào, cũng chưa xác định tọa độ tàu gặp nạn. Ông Nhớ cho biết, chưa xác định được nguyên nhân tàu mất liên lạc. Theo thông báo của phía bạn, thời tiết lúc tàu phát tín hiệu cấp cứu rất bình thường, gió cấp 3-4.   Trong 23 thuyền viên gặp nạn, có 14 người quê Hải Phòng, còn lại quê Bắc Ninh, Nghệ An, Thanh Hoá, Hưng Yên, Hà Nội và 2 người chưa xác định quê quán. Cao tuổi nhất là thuyền viên Nguyễn Văn Bình, sinh năm 1955, quê Hải Phòng. Nhỏ tuổi nhất là Nguyễn Đình Dương, sinh năm 1985, quê Từ Liêm, Hà Nội.  Ông Nhớ cho hay, đến nay chưa thể nói SEA BEE mất tích vì chưa xác định được tọa độ. Điều này cũng được ông Hoàng Phú Dương, Giám đốc Bảo Việt Hải Phòng xác nhận, bởi chưa cơ quan nào tuyên bố mất tích, cũng chưa có xác nhận của nơi tàu đi và đến. SEA BEE xuất cảng Qinghuang Dao (Trung Quốc) ngày 1/5, theo lịch trình sẽ đến Manila (Philippines) ngày 6/5. Nhưng rời cảng được 1 ngày thì tàu mất liên lạc với chủ tàu là Công ty Vận tải biển Đông Long.  Ông Dương cho hay, SEA BEE được Bảo Việt Hải Phòng bảo hiểm với mức 2 triệu USD. Con tàu trọng tải 6.273 DWT này được đóng tại Nhật Bản năm 1980 và năm 2003, Công ty Đông Long đã mua lại. Hiện Đông Long cho Công ty Cryxtal Shipping của Hàn Quốc thuê định kỳ. Chiếc tàu được đăng kiểm tại Việt Nam và hiện vẫn còn hạn đăng kiểm.  Với trách nhiệm là cơ quan bảo hiểm cho cả tàu và toàn bộ 23 thuyền viên, ông Dương cho hay Bảo Việt đã thông báo cho Hội miền Tây nước Anh (một hội tái bảo hiểm mà Bảo Việt tham gia) để hội này thông báo cho các đại lý phối hợp với cơ quan chức năng tham gia tìm kiếm tàu cũng như thuyền viên gặp nạn.  Về việc chi trả bảo hiểm, ông Dương khẳng định, khi xác định được tàu và các thuyền viên mất tích hoàn toàn thì Bảo Việt Hải Phòng sẽ trả một lần cho gia đình nạn nhân với mức bảo hiểm trách nhiệm cao nhất - 25.000 USD/người.  Trong vòng 2 năm qua, ĐH Hàng hải đã mất đi nhiều thuyền viên. Ngày 20/1, tàu Tiên Phong của Hàn Quốc bị đắm trên vùng biển phía đông CHDCND Triều Tiên, làm thiệt mạng 6 thủy thủ Việt Nam. Trước đó, tháng 2/2004, chiếc tàu Duri cũng bị đắm khiến 18 thủy thủ của Việt Nam bị chết và mất tích.    \n"
     ]
    }
   ],
   "source": [
    "print(contents[3])"
   ]
  },
  {
   "cell_type": "code",
   "execution_count": 13,
   "metadata": {},
   "outputs": [
    {
     "name": "stdout",
     "output_type": "stream",
     "text": [
      "nạn nhân được tìm thấy là máy trưởng tàu sea bee   trưa 7/5, ts lương công nhớ, hiệu phó đh hàng hải việt nam thông báo với vnexpress, người được tìm thấy sau vụ mất liên lạc của tàu sea bee tại vùng biển trung quốc là máy trưởng đàm cao vân, sinh năm 1960, quê hải phòng.  ngoài máy trưởng vân, từ ngày 3/5 đến nay tàu cứu nạn donghaijiu 169 của trung tâm cứu nạn biển đông thượng hải (trung quốc) vẫn chưa tìm thêm được nạn nhân nào, cũng chưa xác định tọa độ tàu gặp nạn. ông nhớ cho biết, chưa xác định được nguyên nhân tàu mất liên lạc. theo thông báo của phía bạn, thời tiết lúc tàu phát tín hiệu cấp cứu rất bình thường, gió cấp 3-4.   trong 23 thuyền viên gặp nạn, có 14 người quê hải phòng, còn lại quê bắc ninh, nghệ an, thanh hoá, hưng yên, hà nội và 2 người chưa xác định quê quán. cao tuổi nhất là thuyền viên nguyễn văn bình, sinh năm 1955, quê hải phòng. nhỏ tuổi nhất là nguyễn đình dương, sinh năm 1985, quê từ liêm, hà nội.  ông nhớ cho hay, đến nay chưa thể nói sea bee mất tích vì chưa xác định được tọa độ. điều này cũng được ông hoàng phú dương, giám đốc bảo việt hải phòng xác nhận, bởi chưa cơ quan nào tuyên bố mất tích, cũng chưa có xác nhận của nơi tàu đi và đến. sea bee xuất cảng qinghuang dao (trung quốc) ngày 1/5, theo lịch trình sẽ đến manila (philippines) ngày 6/5. nhưng rời cảng được 1 ngày thì tàu mất liên lạc với chủ tàu là công ty vận tải biển đông long.  ông dương cho hay, sea bee được bảo việt hải phòng bảo hiểm với mức 2 triệu usd. con tàu trọng tải 6.273 dwt này được đóng tại nhật bản năm 1980 và năm 2003, công ty đông long đã mua lại. hiện đông long cho công ty cryxtal shipping của hàn quốc thuê định kỳ. chiếc tàu được đăng kiểm tại việt nam và hiện vẫn còn hạn đăng kiểm.  với trách nhiệm là cơ quan bảo hiểm cho cả tàu và toàn bộ 23 thuyền viên, ông dương cho hay bảo việt đã thông báo cho hội miền tây nước anh (một hội tái bảo hiểm mà bảo việt tham gia) để hội này thông báo cho các đại lý phối hợp với cơ quan chức năng tham gia tìm kiếm tàu cũng như thuyền viên gặp nạn.  về việc chi trả bảo hiểm, ông dương khẳng định, khi xác định được tàu và các thuyền viên mất tích hoàn toàn thì bảo việt hải phòng sẽ trả một lần cho gia đình nạn nhân với mức bảo hiểm trách nhiệm cao nhất - 25.000 usd/người.  trong vòng 2 năm qua, đh hàng hải đã mất đi nhiều thuyền viên. ngày 20/1, tàu tiên phong của hàn quốc bị đắm trên vùng biển phía đông chdcnd triều tiên, làm thiệt mạng 6 thủy thủ việt nam. trước đó, tháng 2/2004, chiếc tàu duri cũng bị đắm khiến 18 thủy thủ của việt nam bị chết và mất tích.\n"
     ]
    }
   ],
   "source": [
    "print(contents_parsed[3])"
   ]
  },
  {
   "cell_type": "markdown",
   "metadata": {},
   "source": [
    "# Sentences Tokenizer"
   ]
  },
  {
   "cell_type": "code",
   "execution_count": 14,
   "metadata": {},
   "outputs": [],
   "source": [
    "import nltk"
   ]
  },
  {
   "cell_type": "code",
   "execution_count": 15,
   "metadata": {},
   "outputs": [],
   "source": [
    "sentences = nltk.sent_tokenize(contents_parsed[3])"
   ]
  },
  {
   "cell_type": "code",
   "execution_count": 16,
   "metadata": {},
   "outputs": [
    {
     "name": "stdout",
     "output_type": "stream",
     "text": [
      "['nạn nhân được tìm thấy là máy trưởng tàu sea bee   trưa 7/5, ts lương công nhớ, hiệu phó đh hàng hải việt nam thông báo với vnexpress, người được tìm thấy sau vụ mất liên lạc của tàu sea bee tại vùng biển trung quốc là máy trưởng đàm cao vân, sinh năm 1960, quê hải phòng.', 'ngoài máy trưởng vân, từ ngày 3/5 đến nay tàu cứu nạn donghaijiu 169 của trung tâm cứu nạn biển đông thượng hải (trung quốc) vẫn chưa tìm thêm được nạn nhân nào, cũng chưa xác định tọa độ tàu gặp nạn.', 'ông nhớ cho biết, chưa xác định được nguyên nhân tàu mất liên lạc.', 'theo thông báo của phía bạn, thời tiết lúc tàu phát tín hiệu cấp cứu rất bình thường, gió cấp 3-4.   trong 23 thuyền viên gặp nạn, có 14 người quê hải phòng, còn lại quê bắc ninh, nghệ an, thanh hoá, hưng yên, hà nội và 2 người chưa xác định quê quán.', 'cao tuổi nhất là thuyền viên nguyễn văn bình, sinh năm 1955, quê hải phòng.', 'nhỏ tuổi nhất là nguyễn đình dương, sinh năm 1985, quê từ liêm, hà nội.', 'ông nhớ cho hay, đến nay chưa thể nói sea bee mất tích vì chưa xác định được tọa độ.', 'điều này cũng được ông hoàng phú dương, giám đốc bảo việt hải phòng xác nhận, bởi chưa cơ quan nào tuyên bố mất tích, cũng chưa có xác nhận của nơi tàu đi và đến.', 'sea bee xuất cảng qinghuang dao (trung quốc) ngày 1/5, theo lịch trình sẽ đến manila (philippines) ngày 6/5.', 'nhưng rời cảng được 1 ngày thì tàu mất liên lạc với chủ tàu là công ty vận tải biển đông long.', 'ông dương cho hay, sea bee được bảo việt hải phòng bảo hiểm với mức 2 triệu usd.', 'con tàu trọng tải 6.273 dwt này được đóng tại nhật bản năm 1980 và năm 2003, công ty đông long đã mua lại.', 'hiện đông long cho công ty cryxtal shipping của hàn quốc thuê định kỳ.', 'chiếc tàu được đăng kiểm tại việt nam và hiện vẫn còn hạn đăng kiểm.', 'với trách nhiệm là cơ quan bảo hiểm cho cả tàu và toàn bộ 23 thuyền viên, ông dương cho hay bảo việt đã thông báo cho hội miền tây nước anh (một hội tái bảo hiểm mà bảo việt tham gia) để hội này thông báo cho các đại lý phối hợp với cơ quan chức năng tham gia tìm kiếm tàu cũng như thuyền viên gặp nạn.', 'về việc chi trả bảo hiểm, ông dương khẳng định, khi xác định được tàu và các thuyền viên mất tích hoàn toàn thì bảo việt hải phòng sẽ trả một lần cho gia đình nạn nhân với mức bảo hiểm trách nhiệm cao nhất - 25.000 usd/người.', 'trong vòng 2 năm qua, đh hàng hải đã mất đi nhiều thuyền viên.', 'ngày 20/1, tàu tiên phong của hàn quốc bị đắm trên vùng biển phía đông chdcnd triều tiên, làm thiệt mạng 6 thủy thủ việt nam.', 'trước đó, tháng 2/2004, chiếc tàu duri cũng bị đắm khiến 18 thủy thủ của việt nam bị chết và mất tích.']\n"
     ]
    }
   ],
   "source": [
    "print(sentences)"
   ]
  },
  {
   "cell_type": "markdown",
   "metadata": {},
   "source": [
    "# Sentences to vector"
   ]
  },
  {
   "cell_type": "code",
   "execution_count": 18,
   "metadata": {
    "scrolled": true
   },
   "outputs": [],
   "source": [
    "from gensim.models import KeyedVectors \n",
    "\n",
    "w2v = KeyedVectors.load_word2vec_format(\"vi_txt/vi.vec\")"
   ]
  },
  {
   "cell_type": "code",
   "execution_count": 19,
   "metadata": {},
   "outputs": [
    {
     "name": "stderr",
     "output_type": "stream",
     "text": [
      "/home/pham.hoang.anh/virtualenv/deep-fashion/lib/python3.5/site-packages/ipykernel_launcher.py:1: DeprecationWarning: Call to deprecated `wv` (Attribute will be removed in 4.0.0, use self instead).\n",
      "  \"\"\"Entry point for launching an IPython kernel.\n"
     ]
    }
   ],
   "source": [
    "vocab = w2v.wv.vocab"
   ]
  },
  {
   "cell_type": "code",
   "execution_count": 20,
   "metadata": {},
   "outputs": [
    {
     "name": "stderr",
     "output_type": "stream",
     "text": [
      "/home/pham.hoang.anh/virtualenv/deep-fashion/lib/python3.5/site-packages/ipykernel_launcher.py:7: DeprecationWarning: Call to deprecated `wv` (Attribute will be removed in 4.0.0, use self instead).\n",
      "  import sys\n"
     ]
    }
   ],
   "source": [
    "X = []\n",
    "for sentence in sentences:\n",
    "    sentence = ViTokenizer.tokenize(sentence)\n",
    "    words = sentence.split(\" \")\n",
    "    sentence_vec = np.zeros((100))\n",
    "    for word in words:\n",
    "        if word in vocab:\n",
    "            sentence_vec+=w2v.wv[word]\n",
    "    X.append(sentence_vec)"
   ]
  },
  {
   "cell_type": "code",
   "execution_count": 31,
   "metadata": {},
   "outputs": [],
   "source": [
    "from sklearn.cluster import KMeans\n",
    "\n",
    "n_clusters = 5\n",
    "kmeans = KMeans(n_clusters=n_clusters)\n",
    "kmeans = kmeans.fit(X)"
   ]
  },
  {
   "cell_type": "code",
   "execution_count": 32,
   "metadata": {},
   "outputs": [],
   "source": [
    "from sklearn.metrics import pairwise_distances_argmin_min\n",
    "\n",
    "avg = []\n",
    "for j in range(n_clusters):\n",
    "    idx = np.where(kmeans.labels_ == j)[0]\n",
    "    avg.append(np.mean(idx))\n",
    "closest, _ = pairwise_distances_argmin_min(kmeans.cluster_centers_, X)\n",
    "ordering = sorted(range(n_clusters), key=lambda k: avg[k])\n",
    "summary = ' '.join([sentences[closest[idx]] for idx in ordering])"
   ]
  },
  {
   "cell_type": "code",
   "execution_count": 33,
   "metadata": {},
   "outputs": [
    {
     "data": {
      "text/plain": [
       "'nạn_nhân được tìm thấy là máy trưởng tàu sea bee trưa 7/5 , ts lương công nhớ , hiệu phó đh hàng_hải việt nam thông_báo với vnexpress , người được tìm thấy sau vụ mất liên_lạc của tàu sea bee tại vùng_biển trung quốc là máy trưởng đàm cao vân , sinh năm 1960 , quê hải phòng . trong 23 thuyền_viên gặp nạn , có 14 người quê hải phòng , còn lại quê bắc_ninh , nghệ_an , thanh hoá , hưng yên , hà_nội và 2 người chưa xác_định quê_quán . điều này cũng được ông hoàng phú_dương , giám_đốc bảo việt hải phòng xác_nhận , bởi chưa cơ_quan nào tuyên_bố mất_tích , cũng chưa có xác_nhận của nơi tàu đi và đến . chiếc tàu được đăng_kiểm tại việt nam và hiện vẫn còn hạn đăng_kiểm . với trách_nhiệm là cơ_quan bảo_hiểm cho cả tàu và toàn_bộ 23 thuyền_viên , ông dương cho hay bảo việt đã thông_báo cho hội miền tây nước anh ( một hội tái_bảo_hiểm mà bảo việt tham_gia ) để hội này thông_báo cho các đại_lý phối_hợp với cơ_quan_chức_năng tham_gia tìm_kiếm tàu cũng như thuyền_viên gặp nạn .'"
      ]
     },
     "execution_count": 33,
     "metadata": {},
     "output_type": "execute_result"
    }
   ],
   "source": [
    "summary"
   ]
  },
  {
   "cell_type": "code",
   "execution_count": null,
   "metadata": {},
   "outputs": [],
   "source": []
  }
 ],
 "metadata": {
  "kernelspec": {
   "display_name": "Python 3",
   "language": "python",
   "name": "python3"
  },
  "language_info": {
   "codemirror_mode": {
    "name": "ipython",
    "version": 3
   },
   "file_extension": ".py",
   "mimetype": "text/x-python",
   "name": "python",
   "nbconvert_exporter": "python",
   "pygments_lexer": "ipython3",
   "version": "3.6.6"
  }
 },
 "nbformat": 4,
 "nbformat_minor": 2
}
