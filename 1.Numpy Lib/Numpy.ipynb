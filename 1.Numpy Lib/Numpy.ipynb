{
 "cells": [
  {
   "cell_type": "markdown",
   "metadata": {},
   "source": [
    "# Bài tập 1: Xây dựng mảng các luỹ thừa của 2 nhỏ hơn 1025, bao gồm cả 1 = 2**0. Gợi ý: Nếu a là một mảng và b là một số thì b**a sẽ trả về một mảng cùng kích thước với a mà phần tử có chỉ số i bằng b**a[i], với ** là toán tử luỹ thừa.\n",
    "\n",
    "# Bài tập 2: Xây dựng mảng gồm 10 phần tử, trong đó 9 phần tử đầu bằng 3, phần tử cuối cùng bằng 1.5.\n",
    "\n"
   ]
  },
  {
   "cell_type": "code",
   "execution_count": 3,
   "metadata": {},
   "outputs": [
    {
     "name": "stdout",
     "output_type": "stream",
     "text": [
      "[   1    2    4    8   16   32   64  128  256  512 1024] [3.  3.  3.  3.  3.  3.  3.  3.  3.  1.5]\n"
     ]
    }
   ],
   "source": [
    "import numpy as np \n",
    "# Ex 1. \n",
    "# TODO: create an array comprising of all power of 2 and < 1025, \n",
    "# including 1 = 2** 0, store result in x  \n",
    "x =2**np.arange(0,np.log2(1025),1,dtype = int)\n",
    "# -- end TODO ---\n",
    "\n",
    "# Ex 2.\n",
    "# TODO: create an array of 10 elements, all of them = 3 except the last one = 1.5, \n",
    "# store result in y \n",
    "y=3*np.ones(10)\n",
    "#y[0:8]=3\n",
    "y[9]=1.5\n",
    "# -- end TODO ----\n",
    "\n",
    "print(x, y)"
   ]
  },
  {
   "cell_type": "code",
   "execution_count": 4,
   "metadata": {},
   "outputs": [],
   "source": [
    "x = np.array([3, 4, 5])"
   ]
  },
  {
   "cell_type": "code",
   "execution_count": 5,
   "metadata": {},
   "outputs": [],
   "source": [
    "d = x.shape[0]"
   ]
  },
  {
   "cell_type": "code",
   "execution_count": 6,
   "metadata": {},
   "outputs": [
    {
     "data": {
      "text/plain": [
       "3"
      ]
     },
     "execution_count": 6,
     "metadata": {},
     "output_type": "execute_result"
    }
   ],
   "source": [
    "d"
   ]
  },
  {
   "cell_type": "markdown",
   "metadata": {},
   "source": [
    "Trong Python có một điểm đặc biệt là Chỉ số ngược. Cho một mảng 1 chiều x có d phần tử. Để truy cập vào phần tử cuối cùng của mảng này, không cần biết d là bao nhiêu, ta có thể dùng chỉ số -1."
   ]
  },
  {
   "cell_type": "markdown",
   "metadata": {},
   "source": [
    "Bài tập: Thay toàn bộ các phần tử của mảng bằng trung bình cộng các phần tử trong mảng đó, sử dụng vòng for. Hàm này không trả về biến nào mà chỉ thay đổi các giá trị của biến đầu vào x."
   ]
  },
  {
   "cell_type": "code",
   "execution_count": 15,
   "metadata": {},
   "outputs": [
    {
     "name": "stdout",
     "output_type": "stream",
     "text": [
      "55.0\n",
      "10\n",
      "[5.5 5.5 5.5 5.5 5.5 5.5 5.5 5.5 5.5 5.5]\n"
     ]
    }
   ],
   "source": [
    "import numpy as np \n",
    "\n",
    "def myavg(x):\n",
    "    \"\"\"\n",
    "    :type x: a 1d array\n",
    "    :rtype: None\n",
    "    \"\"\"\n",
    "    # number of elements in x \n",
    "    d = x.shape[0]\n",
    "    # create a variable to store sum of all elements\n",
    "    res = 0 \n",
    "    for i in range(d):\n",
    "      # TODO: add the i-th element of x to res\n",
    "      res +=x[i]\n",
    "      # -- end TODO --\n",
    "    # take average\n",
    "    print(res)\n",
    "    print(d)\n",
    "    m = res/d\n",
    "    # assign this new value to every element of x\n",
    "    for i in range(d):\n",
    "      # TODO: assign m to every element of x \n",
    "      x[i]=m\n",
    "      # -- end TODO -- \n",
    "    \n",
    "\n",
    "# create a 1d array\n",
    "x = np.array([1., 2, 3, 4, 5, 6, 7, 8, 9, 10])\n",
    "myavg(x)\n",
    "print(x)"
   ]
  },
  {
   "cell_type": "markdown",
   "metadata": {},
   "source": [
    "Bài tập: Cho một mảng 1 chiều x, tính mảng y và z sao cho y[i] = pi/2 - x[i] và z[i] = cos(x[i]) - sin(x[i]). Sau đó trả về tổng các phần tử của z"
   ]
  },
  {
   "cell_type": "markdown",
   "metadata": {},
   "source": [
    "Viết hàm số tính tổng trị tuyệt đối các phần tử của một mảng một chiều. (Gợi ý: np.abs.)"
   ]
  },
  {
   "cell_type": "code",
   "execution_count": 17,
   "metadata": {},
   "outputs": [
    {
     "name": "stdout",
     "output_type": "stream",
     "text": [
      "777.2455\n"
     ]
    }
   ],
   "source": [
    "import numpy as np \n",
    "\n",
    "def mynorm1(x):\n",
    "  res = 0\n",
    "  ## TODO\n",
    "  for i in range(x.shape[0]):\n",
    "    res +=np.abs(x[i])\n",
    "  \n",
    "  ## -- end TODO-- \n",
    "  return res\n",
    " \n",
    "np.random.seed(1)\n",
    "x = np.random.randn(1000)\n",
    "print(\"{:.4f}\".format(mynorm1(x)))"
   ]
  },
  {
   "cell_type": "markdown",
   "metadata": {},
   "source": [
    "Bài tập: Hãy lập trình hàm softmax.\n",
    "\n",
    "$$a_i=\\frac{exp(z_i)}{\\sum_{j=0}^{d-1} exp(z_i) }$$\n",
    "\n",
    "với $$exp(u)=e^u$$"
   ]
  },
  {
   "cell_type": "code",
   "execution_count": 46,
   "metadata": {},
   "outputs": [],
   "source": [
    "np.random.seed(1) \n",
    "z = np.random.randn(10)"
   ]
  },
  {
   "cell_type": "code",
   "execution_count": 47,
   "metadata": {},
   "outputs": [],
   "source": [
    "sum=np.sum(np.exp(z))"
   ]
  },
  {
   "cell_type": "code",
   "execution_count": 51,
   "metadata": {},
   "outputs": [
    {
     "name": "stdout",
     "output_type": "stream",
     "text": [
      "[0.29213776 0.03122202 0.03394387 0.01968607 0.13676823 0.00576233\n",
      " 0.32953807 0.02688782 0.07919548 0.04485835]\n"
     ]
    }
   ],
   "source": [
    "a = np.zeros_like(z)\n",
    "a=np.exp(z)/sum\n",
    "print(a)"
   ]
  },
  {
   "cell_type": "markdown",
   "metadata": {},
   "source": [
    "Bài tập: Tính norm 2 của một vector - vector này được biểu diễn dưới dạng mảng numpy một chiều.Norm 2 của một vector \n",
    "x,được ký hiệu là $||x||_2$ được định nghĩa là căn bậc hai của tổng bình phương các phần tử của nó.\n",
    "\n",
    "$$||x||_2=\\sqrt{x_0^2 + x_1^2+.... +x_{d-1}^2}$$ "
   ]
  },
  {
   "cell_type": "code",
   "execution_count": 26,
   "metadata": {},
   "outputs": [],
   "source": [
    "np.random.seed(1)\n",
    "x = np.random.randn(10000)"
   ]
  },
  {
   "cell_type": "code",
   "execution_count": 32,
   "metadata": {},
   "outputs": [
    {
     "data": {
      "text/plain": [
       "99.88336530026436"
      ]
     },
     "execution_count": 32,
     "metadata": {},
     "output_type": "execute_result"
    }
   ],
   "source": [
    "np.linalg.norm(x,ord=None, axis=None, keepdims=False)"
   ]
  },
  {
   "cell_type": "markdown",
   "metadata": {},
   "source": [
    "argmin, argmax\n",
    "Để tìm chỉ số mà tại đó mảng một chiều đạt giá trị nhỏ nhất hay lớn nhất, ta có thể sử dụng np.argmin, hoặc np.argmax:"
   ]
  },
  {
   "cell_type": "markdown",
   "metadata": {},
   "source": [
    "Bài tập: Trong bài toán classification, sử dụng Softmax Regression, giả sử ta đã tính được xác suất để một điểm dữ liệu thuộc vào mỗi class. Các xác suất này được lưu dưới dạng một mảng một chiều mà phần tử thứ i là xác suất để điểm dữ liệu rơi vào lớp i. Nhãn của dữ liệu được dự đoán là chỉ số của lớp mà điểm dữ liệu rơi vào với xác suất cao nhất. Hãy viết một hàm số xác định chỉ số đó.\n",
    "\n",
    "Chú ý: Mảng chứa xác suất này thường được tính bằng cách áp dụng hàm softmax vào score vector. Hàm softmax giữ nguyên thứ tự của vector đầu vào, vì vậy chỉ số của lớp có xác suất cao nhất cũng là chỉ số của lớp có score cao nhất. (Mời bạn đọc thêm bài Softmax Regression để biết thêm chi tiết)."
   ]
  },
  {
   "cell_type": "code",
   "execution_count": 37,
   "metadata": {},
   "outputs": [
    {
     "name": "stdout",
     "output_type": "stream",
     "text": [
      "565\n"
     ]
    }
   ],
   "source": [
    "np.random.seed(1)\n",
    "# suppose that there are 1000 classes\n",
    "score = np.random.randn(1000) \n",
    "res = -1\n",
    "## TODO \n",
    "sm = np.exp(score)/np.exp(score).sum(axis = 0)\n",
    "res = sm.argmax()\n",
    "## -- end TODO --\n",
    "print(res)"
   ]
  },
  {
   "cell_type": "markdown",
   "metadata": {},
   "source": [
    "![soft_max](soft_max.png)"
   ]
  },
  {
   "cell_type": "code",
   "execution_count": 40,
   "metadata": {},
   "outputs": [],
   "source": [
    "np.random.seed(1) \n",
    "z = np.random.randn(3)+1000\n",
    "sum=np.sum(np.exp(z)-np.max(z))\n",
    "a = np.zeros_like(z)\n",
    "for i in range(np.shape(z)[0]):\n",
    "   a[i] += np.exp(z[i]-np.max(z)) / sum"
   ]
  },
  {
   "cell_type": "code",
   "execution_count": 41,
   "metadata": {},
   "outputs": [
    {
     "data": {
      "text/plain": [
       "array([0.29213776, 0.03122202, 0.03394387, 0.01968607, 0.13676823,\n",
       "       0.00576233, 0.32953807, 0.02688782, 0.07919548, 0.04485835])"
      ]
     },
     "execution_count": 41,
     "metadata": {},
     "output_type": "execute_result"
    }
   ],
   "source": [
    "a"
   ]
  },
  {
   "cell_type": "code",
   "execution_count": 44,
   "metadata": {},
   "outputs": [
    {
     "name": "stderr",
     "output_type": "stream",
     "text": [
      "/anaconda3/lib/python3.6/site-packages/ipykernel_launcher.py:6: RuntimeWarning: invalid value encountered in double_scalars\n",
      "  \n"
     ]
    }
   ],
   "source": [
    "np.random.seed(2) \n",
    "z = np.random.randn(3)+1000\n",
    "sum=np.sum(np.exp(z))\n",
    "a = np.zeros_like(z)\n",
    "for i in range(np.shape(z)[0]):\n",
    "   a[i] += np.exp(z[i]) / sum"
   ]
  },
  {
   "cell_type": "code",
   "execution_count": null,
   "metadata": {},
   "outputs": [],
   "source": []
  }
 ],
 "metadata": {
  "kernelspec": {
   "display_name": "Python 3",
   "language": "python",
   "name": "python3"
  },
  "language_info": {
   "codemirror_mode": {
    "name": "ipython",
    "version": 3
   },
   "file_extension": ".py",
   "mimetype": "text/x-python",
   "name": "python",
   "nbconvert_exporter": "python",
   "pygments_lexer": "ipython3",
   "version": "3.6.6"
  }
 },
 "nbformat": 4,
 "nbformat_minor": 2
}
