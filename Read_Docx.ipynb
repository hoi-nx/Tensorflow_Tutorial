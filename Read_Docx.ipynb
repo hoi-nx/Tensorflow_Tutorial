{
 "cells": [
  {
   "cell_type": "code",
   "execution_count": 1,
   "metadata": {},
   "outputs": [
    {
     "name": "stdout",
     "output_type": "stream",
     "text": [
      "Công sở đậm dư âm Tết trong ngày đầu làm việc. \n",
      "Trong lịch công tác của các bộ ngành 3 ngày đầu năm hầu như không có những cuộc họp. Chương trình làm việc chính của các lãnh đạo là chúc Tết. Một số nơi còn ghi lịch làm việc: lãnh đạo giải quyết công việc thường xuyên tại cơ quan. 9h sáng, hội trường Bộ Giáo dục và Đào tạo rộn tiếng cười đùa, chúc tụng, tiếng ly rượu cụng nhau chan chát. Sau đó các vụ, phòng bắt đầu những cuộc gặp gỡ riêng. Buổi \"làm việc\" đầu năm kết thúc sớm, với bữa tiệc tân niên tại gia. \"Ngày thường, cùng cơ quan đấy nhưng mấy khi có dịp đến nhà nhau. Năm qua, người thì xây nhà mới, người thì có con đầu lòng. Đầu xuân, mọi người trong phòng đến nhà nhau, vừa chúc Tết, thăm hỏi luôn\", anh Tuấn, cán bộ Tổng công ty Dệt may Việt Nam tâm sự. \n",
      "Sau 2 màn tiệc ngọt tại cơ quan, 10h sáng, các thành viên trong phòng của Tuấn \"đóng cửa\" bắt đầu những cuộc viếng thăm truyền thống. \"Hôm nay ai có việc gấp quá thì phải làm nhưng ít người như thế lắm. Cả sếp và nhân viên công ty tôi đều đi chúc Tết. Chúc Tết các phòng xong, chúng tôi đang triệu nhau đến thăm nhà mấy người đồng nghiệp, bạn bè gần đây\", chị Nguyễn Thị Bích Thư, phòng Kỹ thuật, Công ty Thép Miền Nam, 56 Thủ Khoa Huân, quận 1 (TP HCM) hoan hỷ. Rộn ràng trong công sở, không khí xuân còn tràn ngập quanh các hàng quán cà phê. 9h sáng, nhưng các hàng quán trên đường Lý Tự Trọng, quận 1 (TP HCM) vẫn khá đông công chức. Họ kể chuyện chơi Tết, chúc tụng, trao lì xì cho nhau và vui vẻ cười đùa. Anh Hoàng, cán bộ một sở trên đường Lý Tự Trọng cho biết, ngày đầu năm, lãnh đạo sở gặp mặt lãnh đạo các phòng, ban, nhân viên, ăn kẹo, uống chút bia thân mật để động viên, lấy \"khí thế\" làm việc cho cả năm. Dư vị Tết có lẽ phải kéo dài thêm vài ngày nữa.\n",
      "Trao đổi với VnExpress, Chánh Văn phòng của một bộ cho rằng: \"Đầu năm chơi nhiều hơn làm\" đã thành lệ khó sửa. Lãnh đạo cơ quan biết nhưng cũng phải thông cảm. \"Anh em mời nhau đến nhà chơi, đi làm muộn một chút mình cũng phải thông cảm, quy định cứng nhắc quá thì mất vui. Tuy nhiên, công việc cơ quan vẫn phải đảm bảo\", ông này nói. Cũng có một thực tế là đầu năm, người dân cũng mải vui Tết, chưa đến các cơ quan công quyền. Do vậy, không tạo áp lực công việc đối với công chức. Phòng công chứng số 1 (Hà Nội) ngày thường đông nghịt khách nhưng sáng nay vắng hoe. Anh Nguyễn Chí Thiện, công chứng viên cho biết, cả sáng chỉ có khoảng 30 hồ sơ công chứng, thấp \"kỷ lục\" trong năm. Vắng khách, sẵn mứt Tết \"tồn đọng\", nhân viên quây quần ngồi uống nước, bàn chuyện du xuân. 11h trưa, nhiều công sở ở Hà Nội khá im ắng, các quán ăn thì đông nghẹt khách. \"Sáng đi được một tour rồi, trưa tụ họp ở quán ăn lấy sức. Chiều đi vài nhà nữa rồi karaoke\", Ngọc Linh, nhân viên kinh doanh một hãng ôtô lớn hào hứng. \n",
      "Với nhiều công chức, ngày đầu năm đi làm còn. . vui hơn Tết!\n"
     ]
    }
   ],
   "source": [
    "import docx2txt\n",
    "my_text = docx2txt.process(\"TetHoliday.docx\")\n",
    "print(my_text)"
   ]
  },
  {
   "cell_type": "code",
   "execution_count": 2,
   "metadata": {},
   "outputs": [
    {
     "name": "stdout",
     "output_type": "stream",
     "text": [
      "[nltk_data] Downloading package punkt to\n",
      "[nltk_data]     /Users/stealerofsouls/nltk_data...\n",
      "[nltk_data]   Package punkt is already up-to-date!\n"
     ]
    }
   ],
   "source": [
    "import nltk\n",
    "nltk.download('punkt')\n",
    "\n",
    "# Do this in your ipython notebook or analysis script\n",
    "from nltk.tokenize import word_tokenize\n",
    "\n",
    "sentences = [\n",
    "    \"Mr. Green killed Colonel Mustard in the study with the candlestick. Mr. Green is not a very nice fellow.\",\n",
    "    \"Professor Plum has a green plant in his study.\",\n",
    "    \"Miss Scarlett watered Professor Plum's green plant while he was away from his office last week.\"\n",
    "]\n",
    "\n",
    "sentences_tokenized = []\n",
    "for s in sentences:\n",
    "    sentences_tokenized.append(word_tokenize(s))"
   ]
  },
  {
   "cell_type": "code",
   "execution_count": 3,
   "metadata": {},
   "outputs": [
    {
     "data": {
      "text/plain": [
       "[['Mr.',\n",
       "  'Green',\n",
       "  'killed',\n",
       "  'Colonel',\n",
       "  'Mustard',\n",
       "  'in',\n",
       "  'the',\n",
       "  'study',\n",
       "  'with',\n",
       "  'the',\n",
       "  'candlestick',\n",
       "  '.',\n",
       "  'Mr.',\n",
       "  'Green',\n",
       "  'is',\n",
       "  'not',\n",
       "  'a',\n",
       "  'very',\n",
       "  'nice',\n",
       "  'fellow',\n",
       "  '.'],\n",
       " ['Professor',\n",
       "  'Plum',\n",
       "  'has',\n",
       "  'a',\n",
       "  'green',\n",
       "  'plant',\n",
       "  'in',\n",
       "  'his',\n",
       "  'study',\n",
       "  '.'],\n",
       " ['Miss',\n",
       "  'Scarlett',\n",
       "  'watered',\n",
       "  'Professor',\n",
       "  'Plum',\n",
       "  \"'s\",\n",
       "  'green',\n",
       "  'plant',\n",
       "  'while',\n",
       "  'he',\n",
       "  'was',\n",
       "  'away',\n",
       "  'from',\n",
       "  'his',\n",
       "  'office',\n",
       "  'last',\n",
       "  'week',\n",
       "  '.']]"
      ]
     },
     "execution_count": 3,
     "metadata": {},
     "output_type": "execute_result"
    }
   ],
   "source": [
    "sentences_tokenized"
   ]
  },
  {
   "cell_type": "code",
   "execution_count": 11,
   "metadata": {},
   "outputs": [
    {
     "data": {
      "text/plain": [
       "['Công sở đậm dư âm Tết trong ngày đầu làm việc',\n",
       " '\\xa0\\nTrong lịch công tác của các bộ ngành 3 ngày đầu năm hầu như không có những cuộc họp',\n",
       " ' Chương trình làm việc chính của các lãnh đạo là chúc Tết',\n",
       " ' Một số nơi còn ghi lịch làm việc: lãnh đạo giải quyết công việc thường xuyên tại cơ quan',\n",
       " ' 9h sáng, hội trường Bộ Giáo dục và Đào tạo rộn tiếng cười đùa, chúc tụng, tiếng ly rượu cụng nhau chan chát',\n",
       " ' Sau đó các vụ, phòng bắt đầu những cuộc gặp gỡ riêng',\n",
       " ' Buổi \"làm việc\" đầu năm kết thúc sớm, với bữa tiệc tân niên tại gia',\n",
       " ' \"Ngày thường, cùng cơ quan đấy nhưng mấy khi có dịp đến nhà nhau',\n",
       " ' Năm qua, người thì xây nhà mới, người thì có con đầu lòng',\n",
       " ' Đầu xuân, mọi người trong phòng đến nhà nhau, vừa chúc Tết, thăm hỏi luôn\", anh Tuấn, cán bộ Tổng công ty Dệt may Việt Nam tâm sự',\n",
       " '\\xa0\\nSau 2 màn tiệc ngọt tại cơ quan, 10h sáng, các thành viên trong phòng của Tuấn \"đóng cửa\" bắt đầu những cuộc viếng thăm truyền thống',\n",
       " ' \"Hôm nay ai có việc gấp quá thì phải làm nhưng ít người như thế lắm',\n",
       " ' Cả sếp và nhân viên công ty tôi đều đi chúc Tết',\n",
       " ' Chúc Tết các phòng xong, chúng tôi đang triệu nhau đến thăm nhà mấy người đồng nghiệp, bạn bè gần đây\", chị Nguyễn Thị Bích Thư, phòng Kỹ thuật, Công ty Thép Miền Nam, 56 Thủ Khoa Huân, quận 1 (TP HCM) hoan hỷ',\n",
       " ' Rộn ràng trong công sở, không khí xuân còn tràn ngập quanh các hàng quán cà phê',\n",
       " ' 9h sáng, nhưng các hàng quán trên đường Lý Tự Trọng, quận 1 (TP HCM) vẫn khá đông công chức',\n",
       " ' Họ kể chuyện chơi Tết, chúc tụng, trao lì xì cho nhau và vui vẻ cười đùa',\n",
       " ' Anh Hoàng, cán bộ một sở trên đường Lý Tự Trọng cho biết, ngày đầu năm, lãnh đạo sở gặp mặt lãnh đạo các phòng, ban, nhân viên, ăn kẹo, uống chút bia thân mật để động viên, lấy \"khí thế\" làm việc cho cả năm',\n",
       " ' Dư vị Tết có lẽ phải kéo dài thêm vài ngày nữa',\n",
       " '\\nTrao đổi với VnExpress, Chánh Văn phòng của một bộ cho rằng: \"Đầu năm chơi nhiều hơn làm\" đã thành lệ khó sửa',\n",
       " ' Lãnh đạo cơ quan biết nhưng cũng phải thông cảm',\n",
       " ' \"Anh em mời nhau đến nhà chơi, đi làm muộn một chút mình cũng phải thông cảm, quy định cứng nhắc quá thì mất vui',\n",
       " ' Tuy nhiên, công việc cơ quan vẫn phải đảm bảo\", ông này nói',\n",
       " ' Cũng có một thực tế là đầu năm, người dân cũng mải vui Tết, chưa đến các cơ quan công quyền',\n",
       " ' Do vậy, không tạo áp lực công việc đối với công chức',\n",
       " ' Phòng công chứng số 1 (Hà Nội) ngày thường đông nghịt khách nhưng sáng nay vắng hoe',\n",
       " ' Anh Nguyễn Chí Thiện, công chứng viên cho biết, cả sáng chỉ có khoảng 30 hồ sơ công chứng, thấp \"kỷ lục\" trong năm',\n",
       " ' Vắng khách, sẵn mứt Tết \"tồn đọng\", nhân viên quây quần ngồi uống nước, bàn chuyện du xuân',\n",
       " ' 11h trưa, nhiều công sở ở Hà Nội khá im ắng, các quán ăn thì đông nghẹt khách',\n",
       " ' \"Sáng đi được một tour rồi, trưa tụ họp ở quán ăn lấy sức',\n",
       " ' Chiều đi vài nhà nữa rồi karaoke\", Ngọc Linh, nhân viên kinh doanh một hãng ôtô lớn hào hứng',\n",
       " '\\xa0\\nVới nhiều công chức, ngày đầu năm đi làm còn',\n",
       " ' ',\n",
       " ' vui hơn Tết!']"
      ]
     },
     "execution_count": 11,
     "metadata": {},
     "output_type": "execute_result"
    }
   ],
   "source": [
    "my_text.split('.')"
   ]
  },
  {
   "cell_type": "code",
   "execution_count": 12,
   "metadata": {},
   "outputs": [],
   "source": [
    "import unicodedata"
   ]
  },
  {
   "cell_type": "code",
   "execution_count": 13,
   "metadata": {},
   "outputs": [],
   "source": [
    "clean_text = unicodedata.normalize(\"NFKD\",my_text)"
   ]
  },
  {
   "cell_type": "code",
   "execution_count": 14,
   "metadata": {},
   "outputs": [
    {
     "data": {
      "text/plain": [
       "'Công sở đậm dư âm Tết trong ngày đầu làm việc. \\nTrong lịch công tác của các bộ ngành 3 ngày đầu năm hầu như không có những cuộc họp. Chương trình làm việc chính của các lãnh đạo là chúc Tết. Một số nơi còn ghi lịch làm việc: lãnh đạo giải quyết công việc thường xuyên tại cơ quan. 9h sáng, hội trường Bộ Giáo dục và Đào tạo rộn tiếng cười đùa, chúc tụng, tiếng ly rượu cụng nhau chan chát. Sau đó các vụ, phòng bắt đầu những cuộc gặp gỡ riêng. Buổi \"làm việc\" đầu năm kết thúc sớm, với bữa tiệc tân niên tại gia. \"Ngày thường, cùng cơ quan đấy nhưng mấy khi có dịp đến nhà nhau. Năm qua, người thì xây nhà mới, người thì có con đầu lòng. Đầu xuân, mọi người trong phòng đến nhà nhau, vừa chúc Tết, thăm hỏi luôn\", anh Tuấn, cán bộ Tổng công ty Dệt may Việt Nam tâm sự. \\nSau 2 màn tiệc ngọt tại cơ quan, 10h sáng, các thành viên trong phòng của Tuấn \"đóng cửa\" bắt đầu những cuộc viếng thăm truyền thống. \"Hôm nay ai có việc gấp quá thì phải làm nhưng ít người như thế lắm. Cả sếp và nhân viên công ty tôi đều đi chúc Tết. Chúc Tết các phòng xong, chúng tôi đang triệu nhau đến thăm nhà mấy người đồng nghiệp, bạn bè gần đây\", chị Nguyễn Thị Bích Thư, phòng Kỹ thuật, Công ty Thép Miền Nam, 56 Thủ Khoa Huân, quận 1 (TP HCM) hoan hỷ. Rộn ràng trong công sở, không khí xuân còn tràn ngập quanh các hàng quán cà phê. 9h sáng, nhưng các hàng quán trên đường Lý Tự Trọng, quận 1 (TP HCM) vẫn khá đông công chức. Họ kể chuyện chơi Tết, chúc tụng, trao lì xì cho nhau và vui vẻ cười đùa. Anh Hoàng, cán bộ một sở trên đường Lý Tự Trọng cho biết, ngày đầu năm, lãnh đạo sở gặp mặt lãnh đạo các phòng, ban, nhân viên, ăn kẹo, uống chút bia thân mật để động viên, lấy \"khí thế\" làm việc cho cả năm. Dư vị Tết có lẽ phải kéo dài thêm vài ngày nữa.\\nTrao đổi với VnExpress, Chánh Văn phòng của một bộ cho rằng: \"Đầu năm chơi nhiều hơn làm\" đã thành lệ khó sửa. Lãnh đạo cơ quan biết nhưng cũng phải thông cảm. \"Anh em mời nhau đến nhà chơi, đi làm muộn một chút mình cũng phải thông cảm, quy định cứng nhắc quá thì mất vui. Tuy nhiên, công việc cơ quan vẫn phải đảm bảo\", ông này nói. Cũng có một thực tế là đầu năm, người dân cũng mải vui Tết, chưa đến các cơ quan công quyền. Do vậy, không tạo áp lực công việc đối với công chức. Phòng công chứng số 1 (Hà Nội) ngày thường đông nghịt khách nhưng sáng nay vắng hoe. Anh Nguyễn Chí Thiện, công chứng viên cho biết, cả sáng chỉ có khoảng 30 hồ sơ công chứng, thấp \"kỷ lục\" trong năm. Vắng khách, sẵn mứt Tết \"tồn đọng\", nhân viên quây quần ngồi uống nước, bàn chuyện du xuân. 11h trưa, nhiều công sở ở Hà Nội khá im ắng, các quán ăn thì đông nghẹt khách. \"Sáng đi được một tour rồi, trưa tụ họp ở quán ăn lấy sức. Chiều đi vài nhà nữa rồi karaoke\", Ngọc Linh, nhân viên kinh doanh một hãng ôtô lớn hào hứng. \\nVới nhiều công chức, ngày đầu năm đi làm còn. . vui hơn Tết!'"
      ]
     },
     "execution_count": 14,
     "metadata": {},
     "output_type": "execute_result"
    }
   ],
   "source": [
    "clean_text"
   ]
  },
  {
   "cell_type": "code",
   "execution_count": 16,
   "metadata": {},
   "outputs": [
    {
     "data": {
      "text/plain": [
       "['Công',\n",
       " 'sở',\n",
       " 'đậm',\n",
       " 'dư',\n",
       " 'âm',\n",
       " 'Tết',\n",
       " 'trong',\n",
       " 'ngày',\n",
       " 'đầu',\n",
       " 'làm',\n",
       " 'việc.\\xa0\\nTrong',\n",
       " 'lịch',\n",
       " 'công',\n",
       " 'tác',\n",
       " 'của',\n",
       " 'các',\n",
       " 'bộ',\n",
       " 'ngành',\n",
       " '3',\n",
       " 'ngày',\n",
       " 'đầu',\n",
       " 'năm',\n",
       " 'hầu',\n",
       " 'như',\n",
       " 'không',\n",
       " 'có',\n",
       " 'những',\n",
       " 'cuộc',\n",
       " 'họp.',\n",
       " 'Chương',\n",
       " 'trình',\n",
       " 'làm',\n",
       " 'việc',\n",
       " 'chính',\n",
       " 'của',\n",
       " 'các',\n",
       " 'lãnh',\n",
       " 'đạo',\n",
       " 'là',\n",
       " 'chúc',\n",
       " 'Tết.',\n",
       " 'Một',\n",
       " 'số',\n",
       " 'nơi',\n",
       " 'còn',\n",
       " 'ghi',\n",
       " 'lịch',\n",
       " 'làm',\n",
       " 'việc:',\n",
       " 'lãnh',\n",
       " 'đạo',\n",
       " 'giải',\n",
       " 'quyết',\n",
       " 'công',\n",
       " 'việc',\n",
       " 'thường',\n",
       " 'xuyên',\n",
       " 'tại',\n",
       " 'cơ',\n",
       " 'quan.',\n",
       " '9h',\n",
       " 'sáng,',\n",
       " 'hội',\n",
       " 'trường',\n",
       " 'Bộ',\n",
       " 'Giáo',\n",
       " 'dục',\n",
       " 'và',\n",
       " 'Đào',\n",
       " 'tạo',\n",
       " 'rộn',\n",
       " 'tiếng',\n",
       " 'cười',\n",
       " 'đùa,',\n",
       " 'chúc',\n",
       " 'tụng,',\n",
       " 'tiếng',\n",
       " 'ly',\n",
       " 'rượu',\n",
       " 'cụng',\n",
       " 'nhau',\n",
       " 'chan',\n",
       " 'chát.',\n",
       " 'Sau',\n",
       " 'đó',\n",
       " 'các',\n",
       " 'vụ,',\n",
       " 'phòng',\n",
       " 'bắt',\n",
       " 'đầu',\n",
       " 'những',\n",
       " 'cuộc',\n",
       " 'gặp',\n",
       " 'gỡ',\n",
       " 'riêng.',\n",
       " 'Buổi',\n",
       " '\"làm',\n",
       " 'việc\"',\n",
       " 'đầu',\n",
       " 'năm',\n",
       " 'kết',\n",
       " 'thúc',\n",
       " 'sớm,',\n",
       " 'với',\n",
       " 'bữa',\n",
       " 'tiệc',\n",
       " 'tân',\n",
       " 'niên',\n",
       " 'tại',\n",
       " 'gia.',\n",
       " '\"Ngày',\n",
       " 'thường,',\n",
       " 'cùng',\n",
       " 'cơ',\n",
       " 'quan',\n",
       " 'đấy',\n",
       " 'nhưng',\n",
       " 'mấy',\n",
       " 'khi',\n",
       " 'có',\n",
       " 'dịp',\n",
       " 'đến',\n",
       " 'nhà',\n",
       " 'nhau.',\n",
       " 'Năm',\n",
       " 'qua,',\n",
       " 'người',\n",
       " 'thì',\n",
       " 'xây',\n",
       " 'nhà',\n",
       " 'mới,',\n",
       " 'người',\n",
       " 'thì',\n",
       " 'có',\n",
       " 'con',\n",
       " 'đầu',\n",
       " 'lòng.',\n",
       " 'Đầu',\n",
       " 'xuân,',\n",
       " 'mọi',\n",
       " 'người',\n",
       " 'trong',\n",
       " 'phòng',\n",
       " 'đến',\n",
       " 'nhà',\n",
       " 'nhau,',\n",
       " 'vừa',\n",
       " 'chúc',\n",
       " 'Tết,',\n",
       " 'thăm',\n",
       " 'hỏi',\n",
       " 'luôn\",',\n",
       " 'anh',\n",
       " 'Tuấn,',\n",
       " 'cán',\n",
       " 'bộ',\n",
       " 'Tổng',\n",
       " 'công',\n",
       " 'ty',\n",
       " 'Dệt',\n",
       " 'may',\n",
       " 'Việt',\n",
       " 'Nam',\n",
       " 'tâm',\n",
       " 'sự.\\xa0\\nSau',\n",
       " '2',\n",
       " 'màn',\n",
       " 'tiệc',\n",
       " 'ngọt',\n",
       " 'tại',\n",
       " 'cơ',\n",
       " 'quan,',\n",
       " '10h',\n",
       " 'sáng,',\n",
       " 'các',\n",
       " 'thành',\n",
       " 'viên',\n",
       " 'trong',\n",
       " 'phòng',\n",
       " 'của',\n",
       " 'Tuấn',\n",
       " '\"đóng',\n",
       " 'cửa\"',\n",
       " 'bắt',\n",
       " 'đầu',\n",
       " 'những',\n",
       " 'cuộc',\n",
       " 'viếng',\n",
       " 'thăm',\n",
       " 'truyền',\n",
       " 'thống.',\n",
       " '\"Hôm',\n",
       " 'nay',\n",
       " 'ai',\n",
       " 'có',\n",
       " 'việc',\n",
       " 'gấp',\n",
       " 'quá',\n",
       " 'thì',\n",
       " 'phải',\n",
       " 'làm',\n",
       " 'nhưng',\n",
       " 'ít',\n",
       " 'người',\n",
       " 'như',\n",
       " 'thế',\n",
       " 'lắm.',\n",
       " 'Cả',\n",
       " 'sếp',\n",
       " 'và',\n",
       " 'nhân',\n",
       " 'viên',\n",
       " 'công',\n",
       " 'ty',\n",
       " 'tôi',\n",
       " 'đều',\n",
       " 'đi',\n",
       " 'chúc',\n",
       " 'Tết.',\n",
       " 'Chúc',\n",
       " 'Tết',\n",
       " 'các',\n",
       " 'phòng',\n",
       " 'xong,',\n",
       " 'chúng',\n",
       " 'tôi',\n",
       " 'đang',\n",
       " 'triệu',\n",
       " 'nhau',\n",
       " 'đến',\n",
       " 'thăm',\n",
       " 'nhà',\n",
       " 'mấy',\n",
       " 'người',\n",
       " 'đồng',\n",
       " 'nghiệp,',\n",
       " 'bạn',\n",
       " 'bè',\n",
       " 'gần',\n",
       " 'đây\",',\n",
       " 'chị',\n",
       " 'Nguyễn',\n",
       " 'Thị',\n",
       " 'Bích',\n",
       " 'Thư,',\n",
       " 'phòng',\n",
       " 'Kỹ',\n",
       " 'thuật,',\n",
       " 'Công',\n",
       " 'ty',\n",
       " 'Thép',\n",
       " 'Miền',\n",
       " 'Nam,',\n",
       " '56',\n",
       " 'Thủ',\n",
       " 'Khoa',\n",
       " 'Huân,',\n",
       " 'quận',\n",
       " '1',\n",
       " '(TP',\n",
       " 'HCM)',\n",
       " 'hoan',\n",
       " 'hỷ.',\n",
       " 'Rộn',\n",
       " 'ràng',\n",
       " 'trong',\n",
       " 'công',\n",
       " 'sở,',\n",
       " 'không',\n",
       " 'khí',\n",
       " 'xuân',\n",
       " 'còn',\n",
       " 'tràn',\n",
       " 'ngập',\n",
       " 'quanh',\n",
       " 'các',\n",
       " 'hàng',\n",
       " 'quán',\n",
       " 'cà',\n",
       " 'phê.',\n",
       " '9h',\n",
       " 'sáng,',\n",
       " 'nhưng',\n",
       " 'các',\n",
       " 'hàng',\n",
       " 'quán',\n",
       " 'trên',\n",
       " 'đường',\n",
       " 'Lý',\n",
       " 'Tự',\n",
       " 'Trọng,',\n",
       " 'quận',\n",
       " '1',\n",
       " '(TP',\n",
       " 'HCM)',\n",
       " 'vẫn',\n",
       " 'khá',\n",
       " 'đông',\n",
       " 'công',\n",
       " 'chức.',\n",
       " 'Họ',\n",
       " 'kể',\n",
       " 'chuyện',\n",
       " 'chơi',\n",
       " 'Tết,',\n",
       " 'chúc',\n",
       " 'tụng,',\n",
       " 'trao',\n",
       " 'lì',\n",
       " 'xì',\n",
       " 'cho',\n",
       " 'nhau',\n",
       " 'và',\n",
       " 'vui',\n",
       " 'vẻ',\n",
       " 'cười',\n",
       " 'đùa.',\n",
       " 'Anh',\n",
       " 'Hoàng,',\n",
       " 'cán',\n",
       " 'bộ',\n",
       " 'một',\n",
       " 'sở',\n",
       " 'trên',\n",
       " 'đường',\n",
       " 'Lý',\n",
       " 'Tự',\n",
       " 'Trọng',\n",
       " 'cho',\n",
       " 'biết,',\n",
       " 'ngày',\n",
       " 'đầu',\n",
       " 'năm,',\n",
       " 'lãnh',\n",
       " 'đạo',\n",
       " 'sở',\n",
       " 'gặp',\n",
       " 'mặt',\n",
       " 'lãnh',\n",
       " 'đạo',\n",
       " 'các',\n",
       " 'phòng,',\n",
       " 'ban,',\n",
       " 'nhân',\n",
       " 'viên,',\n",
       " 'ăn',\n",
       " 'kẹo,',\n",
       " 'uống',\n",
       " 'chút',\n",
       " 'bia',\n",
       " 'thân',\n",
       " 'mật',\n",
       " 'để',\n",
       " 'động',\n",
       " 'viên,',\n",
       " 'lấy',\n",
       " '\"khí',\n",
       " 'thế\"',\n",
       " 'làm',\n",
       " 'việc',\n",
       " 'cho',\n",
       " 'cả',\n",
       " 'năm.',\n",
       " 'Dư',\n",
       " 'vị',\n",
       " 'Tết',\n",
       " 'có',\n",
       " 'lẽ',\n",
       " 'phải',\n",
       " 'kéo',\n",
       " 'dài',\n",
       " 'thêm',\n",
       " 'vài',\n",
       " 'ngày',\n",
       " 'nữa.\\nTrao',\n",
       " 'đổi',\n",
       " 'với',\n",
       " 'VnExpress,',\n",
       " 'Chánh',\n",
       " 'Văn',\n",
       " 'phòng',\n",
       " 'của',\n",
       " 'một',\n",
       " 'bộ',\n",
       " 'cho',\n",
       " 'rằng:',\n",
       " '\"Đầu',\n",
       " 'năm',\n",
       " 'chơi',\n",
       " 'nhiều',\n",
       " 'hơn',\n",
       " 'làm\"',\n",
       " 'đã',\n",
       " 'thành',\n",
       " 'lệ',\n",
       " 'khó',\n",
       " 'sửa.',\n",
       " 'Lãnh',\n",
       " 'đạo',\n",
       " 'cơ',\n",
       " 'quan',\n",
       " 'biết',\n",
       " 'nhưng',\n",
       " 'cũng',\n",
       " 'phải',\n",
       " 'thông',\n",
       " 'cảm.',\n",
       " '\"Anh',\n",
       " 'em',\n",
       " 'mời',\n",
       " 'nhau',\n",
       " 'đến',\n",
       " 'nhà',\n",
       " 'chơi,',\n",
       " 'đi',\n",
       " 'làm',\n",
       " 'muộn',\n",
       " 'một',\n",
       " 'chút',\n",
       " 'mình',\n",
       " 'cũng',\n",
       " 'phải',\n",
       " 'thông',\n",
       " 'cảm,',\n",
       " 'quy',\n",
       " 'định',\n",
       " 'cứng',\n",
       " 'nhắc',\n",
       " 'quá',\n",
       " 'thì',\n",
       " 'mất',\n",
       " 'vui.',\n",
       " 'Tuy',\n",
       " 'nhiên,',\n",
       " 'công',\n",
       " 'việc',\n",
       " 'cơ',\n",
       " 'quan',\n",
       " 'vẫn',\n",
       " 'phải',\n",
       " 'đảm',\n",
       " 'bảo\",',\n",
       " 'ông',\n",
       " 'này',\n",
       " 'nói.',\n",
       " 'Cũng',\n",
       " 'có',\n",
       " 'một',\n",
       " 'thực',\n",
       " 'tế',\n",
       " 'là',\n",
       " 'đầu',\n",
       " 'năm,',\n",
       " 'người',\n",
       " 'dân',\n",
       " 'cũng',\n",
       " 'mải',\n",
       " 'vui',\n",
       " 'Tết,',\n",
       " 'chưa',\n",
       " 'đến',\n",
       " 'các',\n",
       " 'cơ',\n",
       " 'quan',\n",
       " 'công',\n",
       " 'quyền.',\n",
       " 'Do',\n",
       " 'vậy,',\n",
       " 'không',\n",
       " 'tạo',\n",
       " 'áp',\n",
       " 'lực',\n",
       " 'công',\n",
       " 'việc',\n",
       " 'đối',\n",
       " 'với',\n",
       " 'công',\n",
       " 'chức.',\n",
       " 'Phòng',\n",
       " 'công',\n",
       " 'chứng',\n",
       " 'số',\n",
       " '1',\n",
       " '(Hà',\n",
       " 'Nội)',\n",
       " 'ngày',\n",
       " 'thường',\n",
       " 'đông',\n",
       " 'nghịt',\n",
       " 'khách',\n",
       " 'nhưng',\n",
       " 'sáng',\n",
       " 'nay',\n",
       " 'vắng',\n",
       " 'hoe.',\n",
       " 'Anh',\n",
       " 'Nguyễn',\n",
       " 'Chí',\n",
       " 'Thiện,',\n",
       " 'công',\n",
       " 'chứng',\n",
       " 'viên',\n",
       " 'cho',\n",
       " 'biết,',\n",
       " 'cả',\n",
       " 'sáng',\n",
       " 'chỉ',\n",
       " 'có',\n",
       " 'khoảng',\n",
       " '30',\n",
       " 'hồ',\n",
       " 'sơ',\n",
       " 'công',\n",
       " 'chứng,',\n",
       " 'thấp',\n",
       " '\"kỷ',\n",
       " 'lục\"',\n",
       " 'trong',\n",
       " 'năm.',\n",
       " 'Vắng',\n",
       " 'khách,',\n",
       " 'sẵn',\n",
       " 'mứt',\n",
       " 'Tết',\n",
       " '\"tồn',\n",
       " 'đọng\",',\n",
       " 'nhân',\n",
       " 'viên',\n",
       " 'quây',\n",
       " 'quần',\n",
       " 'ngồi',\n",
       " 'uống',\n",
       " 'nước,',\n",
       " 'bàn',\n",
       " 'chuyện',\n",
       " 'du',\n",
       " 'xuân.',\n",
       " '11h',\n",
       " 'trưa,',\n",
       " 'nhiều',\n",
       " 'công',\n",
       " 'sở',\n",
       " 'ở',\n",
       " 'Hà',\n",
       " 'Nội',\n",
       " 'khá',\n",
       " 'im',\n",
       " 'ắng,',\n",
       " 'các',\n",
       " 'quán',\n",
       " 'ăn',\n",
       " 'thì',\n",
       " 'đông',\n",
       " 'nghẹt',\n",
       " 'khách.',\n",
       " '\"Sáng',\n",
       " 'đi',\n",
       " 'được',\n",
       " 'một',\n",
       " 'tour',\n",
       " 'rồi,',\n",
       " 'trưa',\n",
       " 'tụ',\n",
       " 'họp',\n",
       " 'ở',\n",
       " 'quán',\n",
       " 'ăn',\n",
       " 'lấy',\n",
       " 'sức.',\n",
       " 'Chiều',\n",
       " 'đi',\n",
       " 'vài',\n",
       " 'nhà',\n",
       " 'nữa',\n",
       " 'rồi',\n",
       " 'karaoke\",',\n",
       " 'Ngọc',\n",
       " 'Linh,',\n",
       " 'nhân',\n",
       " 'viên',\n",
       " 'kinh',\n",
       " 'doanh',\n",
       " 'một',\n",
       " 'hãng',\n",
       " 'ôtô',\n",
       " 'lớn',\n",
       " 'hào',\n",
       " 'hứng.\\xa0\\nVới',\n",
       " 'nhiều',\n",
       " 'công',\n",
       " 'chức,',\n",
       " 'ngày',\n",
       " 'đầu',\n",
       " 'năm',\n",
       " 'đi',\n",
       " 'làm',\n",
       " 'còn.',\n",
       " '.',\n",
       " 'vui',\n",
       " 'hơn',\n",
       " 'Tết!']"
      ]
     },
     "execution_count": 16,
     "metadata": {},
     "output_type": "execute_result"
    }
   ],
   "source": [
    "my_text.split(\" \")"
   ]
  },
  {
   "cell_type": "code",
   "execution_count": 17,
   "metadata": {},
   "outputs": [
    {
     "data": {
      "text/plain": [
       "'dlrow olleh'"
      ]
     },
     "execution_count": 17,
     "metadata": {},
     "output_type": "execute_result"
    }
   ],
   "source": [
    "'hello world'[::-1]"
   ]
  },
  {
   "cell_type": "code",
   "execution_count": 18,
   "metadata": {},
   "outputs": [],
   "source": [
    "from nltk.tokenize import word_tokenize\n",
    "import string\n",
    "import re"
   ]
  },
  {
   "cell_type": "code",
   "execution_count": 26,
   "metadata": {},
   "outputs": [],
   "source": [
    "def char_count(w):\n",
    "    num = 0\n",
    "    for i in range(len(w)):\n",
    "        if re.search(r'[a-zA-Z]', w[i]):\n",
    "            num += 1\n",
    "    return num   "
   ]
  },
  {
   "cell_type": "code",
   "execution_count": 27,
   "metadata": {},
   "outputs": [],
   "source": [
    "def get_num_chars(words):\n",
    "    list1 = []\n",
    "\n",
    "    for w in words:\n",
    "        list1.append(char_count(w))\n",
    "\n",
    "    return list1"
   ]
  },
  {
   "cell_type": "code",
   "execution_count": 28,
   "metadata": {},
   "outputs": [],
   "source": [
    " sentence = 'Now I need a drink, alcoholic of course, after the heavy lectures involving quantum mechanics.'"
   ]
  },
  {
   "cell_type": "code",
   "execution_count": 29,
   "metadata": {},
   "outputs": [
    {
     "data": {
      "text/plain": [
       "['Now',\n",
       " 'I',\n",
       " 'need',\n",
       " 'a',\n",
       " 'drink,',\n",
       " 'alcoholic',\n",
       " 'of',\n",
       " 'course,',\n",
       " 'after',\n",
       " 'the',\n",
       " 'heavy',\n",
       " 'lectures',\n",
       " 'involving',\n",
       " 'quantum',\n",
       " 'mechanics.']"
      ]
     },
     "execution_count": 29,
     "metadata": {},
     "output_type": "execute_result"
    }
   ],
   "source": [
    "words = sentence.split()\n",
    "words\n",
    "  "
   ]
  },
  {
   "cell_type": "code",
   "execution_count": 30,
   "metadata": {},
   "outputs": [
    {
     "data": {
      "text/plain": [
       "[3, 1, 4, 1, 5, 9, 2, 6, 5, 3, 5, 8, 9, 7, 9]"
      ]
     },
     "execution_count": 30,
     "metadata": {},
     "output_type": "execute_result"
    }
   ],
   "source": [
    "get_num_chars(words)"
   ]
  },
  {
   "cell_type": "code",
   "execution_count": 31,
   "metadata": {},
   "outputs": [],
   "source": [
    "words = word_tokenize(sentence)"
   ]
  },
  {
   "cell_type": "code",
   "execution_count": 35,
   "metadata": {},
   "outputs": [
    {
     "data": {
      "text/plain": [
       "['Now',\n",
       " 'I',\n",
       " 'need',\n",
       " 'a',\n",
       " 'drink',\n",
       " ',',\n",
       " 'alcoholic',\n",
       " 'of',\n",
       " 'course',\n",
       " ',',\n",
       " 'after',\n",
       " 'the',\n",
       " 'heavy',\n",
       " 'lectures',\n",
       " 'involving',\n",
       " 'quantum',\n",
       " 'mechanics',\n",
       " '.']"
      ]
     },
     "execution_count": 35,
     "metadata": {},
     "output_type": "execute_result"
    }
   ],
   "source": [
    "words"
   ]
  },
  {
   "cell_type": "code",
   "execution_count": 33,
   "metadata": {},
   "outputs": [
    {
     "data": {
      "text/plain": [
       "15"
      ]
     },
     "execution_count": 33,
     "metadata": {},
     "output_type": "execute_result"
    }
   ],
   "source": [
    "char_count(words)"
   ]
  },
  {
   "cell_type": "code",
   "execution_count": 34,
   "metadata": {},
   "outputs": [
    {
     "data": {
      "text/plain": [
       "['Now',\n",
       " 'I',\n",
       " 'need',\n",
       " 'a',\n",
       " 'drink',\n",
       " ',',\n",
       " 'alcoholic',\n",
       " 'of',\n",
       " 'course',\n",
       " ',',\n",
       " 'after',\n",
       " 'the',\n",
       " 'heavy',\n",
       " 'lectures',\n",
       " 'involving',\n",
       " 'quantum',\n",
       " 'mechanics',\n",
       " '.']"
      ]
     },
     "execution_count": 34,
     "metadata": {},
     "output_type": "execute_result"
    }
   ],
   "source": [
    "words"
   ]
  },
  {
   "cell_type": "code",
   "execution_count": 45,
   "metadata": {},
   "outputs": [],
   "source": [
    "sentences = 'Hi He Lied Because Boron Could Not Oxidize Fluorine. New Nations Might Also Sign Peace Security Clause. Arthur King Can.'\n",
    "\n",
    "wordsz = sentences.split()\n",
    "char_dict = {}\n",
    "\n",
    "keys = [1, 5, 6, 7, 8, 9, 15, 16, 19]\n",
    "index_dict = {key: None for key in keys}"
   ]
  },
  {
   "cell_type": "code",
   "execution_count": 46,
   "metadata": {},
   "outputs": [
    {
     "data": {
      "text/plain": [
       "['Hi',\n",
       " 'He',\n",
       " 'Lied',\n",
       " 'Because',\n",
       " 'Boron',\n",
       " 'Could',\n",
       " 'Not',\n",
       " 'Oxidize',\n",
       " 'Fluorine.',\n",
       " 'New',\n",
       " 'Nations',\n",
       " 'Might',\n",
       " 'Also',\n",
       " 'Sign',\n",
       " 'Peace',\n",
       " 'Security',\n",
       " 'Clause.',\n",
       " 'Arthur',\n",
       " 'King',\n",
       " 'Can.']"
      ]
     },
     "execution_count": 46,
     "metadata": {},
     "output_type": "execute_result"
    }
   ],
   "source": [
    "wordsz"
   ]
  },
  {
   "cell_type": "code",
   "execution_count": 65,
   "metadata": {},
   "outputs": [
    {
     "data": {
      "text/plain": [
       "'H'"
      ]
     },
     "execution_count": 65,
     "metadata": {},
     "output_type": "execute_result"
    }
   ],
   "source": [
    "wordsz[0][0]"
   ]
  },
  {
   "cell_type": "code",
   "execution_count": 66,
   "metadata": {},
   "outputs": [
    {
     "data": {
      "text/plain": [
       "20"
      ]
     },
     "execution_count": 66,
     "metadata": {},
     "output_type": "execute_result"
    }
   ],
   "source": [
    "len(wordsz)"
   ]
  },
  {
   "cell_type": "code",
   "execution_count": 91,
   "metadata": {},
   "outputs": [],
   "source": [
    "index_dict.keys()\n",
    "for i in range(len(index_dict.keys())):\n",
    "    pass"
   ]
  },
  {
   "cell_type": "code",
   "execution_count": 90,
   "metadata": {},
   "outputs": [
    {
     "data": {
      "text/plain": [
       "dict_keys([1, 5, 6, 7, 8, 9, 15, 16, 19])"
      ]
     },
     "execution_count": 90,
     "metadata": {},
     "output_type": "execute_result"
    }
   ],
   "source": [
    "index_dict.keys()"
   ]
  },
  {
   "cell_type": "code",
   "execution_count": 77,
   "metadata": {},
   "outputs": [
    {
     "name": "stdout",
     "output_type": "stream",
     "text": [
      "1\n",
      "5\n",
      "6\n",
      "7\n",
      "8\n",
      "9\n",
      "15\n",
      "16\n",
      "19\n"
     ]
    }
   ],
   "source": [
    "wr=[];\n",
    "for i in range(len(keys)):\n",
    "    print(keys[i])\n",
    "    wr.append(wordsz[keys[i]])\n"
   ]
  },
  {
   "cell_type": "code",
   "execution_count": 78,
   "metadata": {},
   "outputs": [
    {
     "data": {
      "text/plain": [
       "['He',\n",
       " 'Could',\n",
       " 'Not',\n",
       " 'Oxidize',\n",
       " 'Fluorine.',\n",
       " 'New',\n",
       " 'Security',\n",
       " 'Clause.',\n",
       " 'Can.']"
      ]
     },
     "execution_count": 78,
     "metadata": {},
     "output_type": "execute_result"
    }
   ],
   "source": [
    "wr"
   ]
  },
  {
   "cell_type": "code",
   "execution_count": 79,
   "metadata": {},
   "outputs": [
    {
     "name": "stdout",
     "output_type": "stream",
     "text": [
      "H\n",
      "C\n",
      "N\n",
      "O\n",
      "F\n",
      "N\n",
      "S\n",
      "C\n",
      "C\n"
     ]
    }
   ],
   "source": [
    "for i in range(len(wr)):\n",
    "    print(wr[i][0])"
   ]
  },
  {
   "cell_type": "code",
   "execution_count": 116,
   "metadata": {},
   "outputs": [
    {
     "name": "stdout",
     "output_type": "stream",
     "text": [
      "Hi\n",
      "H\n",
      "Li\n",
      "Be\n",
      "Bo\n",
      "C\n",
      "N\n",
      "O\n",
      "F\n",
      "N\n",
      "Na\n",
      "Mi\n",
      "Al\n",
      "Si\n",
      "Pe\n",
      "S\n",
      "C\n",
      "Ar\n",
      "Ki\n",
      "C\n"
     ]
    }
   ],
   "source": [
    "for i in range(len(wordsz)):\n",
    "        w = wordsz[i]\n",
    "        #print(w)\n",
    "        if i in index_dict:\n",
    "            print(wordsz[i][0])\n",
    "        else:\n",
    "            print(wordsz[i][0:2])\n",
    "            #char_dict[wordsz[i][0]] = i\n",
    "       # if (i+1) in index_dict:\n",
    "        #    char_dict[w[0]] = i+1\n",
    "       # else:\n",
    "         #   char_dict[''.join(w[0:2])] = i+1"
   ]
  },
  {
   "cell_type": "code",
   "execution_count": null,
   "metadata": {},
   "outputs": [],
   "source": []
  }
 ],
 "metadata": {
  "kernelspec": {
   "display_name": "Python 3",
   "language": "python",
   "name": "python3"
  },
  "language_info": {
   "codemirror_mode": {
    "name": "ipython",
    "version": 3
   },
   "file_extension": ".py",
   "mimetype": "text/x-python",
   "name": "python",
   "nbconvert_exporter": "python",
   "pygments_lexer": "ipython3",
   "version": "3.6.6"
  }
 },
 "nbformat": 4,
 "nbformat_minor": 2
}
